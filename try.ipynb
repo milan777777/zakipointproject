{
 "cells": [
  {
   "cell_type": "code",
   "execution_count": null,
   "id": "e74ccaad",
   "metadata": {},
   "outputs": [],
   "source": [
    "trying hard "
   ]
  }
 ],
 "metadata": {
  "language_info": {
   "name": "python"
  }
 },
 "nbformat": 4,
 "nbformat_minor": 5
}
