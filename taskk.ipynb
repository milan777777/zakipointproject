{
 "cells": [
  {
   "cell_type": "code",
   "execution_count": 1,
   "id": "d78484ae",
   "metadata": {},
   "outputs": [],
   "source": [
    "from pyspark.sql import SparkSession"
   ]
  },
  {
   "cell_type": "code",
   "execution_count": 2,
   "id": "8440aef5",
   "metadata": {},
   "outputs": [
    {
     "name": "stderr",
     "output_type": "stream",
     "text": [
      "25/04/28 10:13:11 WARN Utils: Your hostname, milanthapa resolves to a loopback address: 127.0.1.1; using 10.10.42.123 instead (on interface enp2s0)\n",
      "25/04/28 10:13:11 WARN Utils: Set SPARK_LOCAL_IP if you need to bind to another address\n",
      "Setting default log level to \"WARN\".\n",
      "To adjust logging level use sc.setLogLevel(newLevel). For SparkR, use setLogLevel(newLevel).\n",
      "25/04/28 10:13:11 WARN NativeCodeLoader: Unable to load native-hadoop library for your platform... using builtin-java classes where applicable\n"
     ]
    }
   ],
   "source": [
    "spark = SparkSession.builder.appName('practical').getOrCreate()"
   ]
  },
  {
   "cell_type": "code",
   "execution_count": 3,
   "id": "40e85019",
   "metadata": {},
   "outputs": [
    {
     "data": {
      "text/html": [
       "\n",
       "            <div>\n",
       "                <p><b>SparkSession - in-memory</b></p>\n",
       "                \n",
       "        <div>\n",
       "            <p><b>SparkContext</b></p>\n",
       "\n",
       "            <p><a href=\"http://10.10.42.123:4040\">Spark UI</a></p>\n",
       "\n",
       "            <dl>\n",
       "              <dt>Version</dt>\n",
       "                <dd><code>v3.5.5</code></dd>\n",
       "              <dt>Master</dt>\n",
       "                <dd><code>local[*]</code></dd>\n",
       "              <dt>AppName</dt>\n",
       "                <dd><code>practical</code></dd>\n",
       "            </dl>\n",
       "        </div>\n",
       "        \n",
       "            </div>\n",
       "        "
      ],
      "text/plain": [
       "<pyspark.sql.session.SparkSession at 0x714e20370eb0>"
      ]
     },
     "execution_count": 3,
     "metadata": {},
     "output_type": "execute_result"
    }
   ],
   "source": [
    "spark"
   ]
  },
  {
   "cell_type": "code",
   "execution_count": 4,
   "id": "049d171f",
   "metadata": {},
   "outputs": [],
   "source": [
    "df_pyspark = spark.read.option('multiline','True').json('home.json')"
   ]
  },
  {
   "cell_type": "code",
   "execution_count": 5,
   "id": "567e2262",
   "metadata": {},
   "outputs": [
    {
     "name": "stderr",
     "output_type": "stream",
     "text": [
      "                                                                                \r"
     ]
    },
    {
     "name": "stdout",
     "output_type": "stream",
     "text": [
      "+-----------------+--------------------+\n",
      "|provider_group_id|     provider_groups|\n",
      "+-----------------+--------------------+\n",
      "|         10001001|[{[1235233008, 13...|\n",
      "|         10002001|[{[1609829761, 18...|\n",
      "|         10003001|[{[1720350119], {...|\n",
      "|         10004001|[{[1417152349, 16...|\n",
      "|         10006001|[{[1043293582, 19...|\n",
      "|         10007001|[{[1275520645], {...|\n",
      "|         10008001|[{[1114026911], {...|\n",
      "|         10009001|[{[1003084302, 10...|\n",
      "|         10010001|[{[1710182167], {...|\n",
      "|         10011001|[{[1326039934, 14...|\n",
      "|         10012001|[{[1023093721, 12...|\n",
      "|         10013001|[{[1003127622, 10...|\n",
      "|         10014001|[{[1871582346], {...|\n",
      "|         10015001|[{[1194743344, 12...|\n",
      "|         10016001|[{[1003038530, 10...|\n",
      "|         10017001|[{[1063644110, 10...|\n",
      "|         10018001|[{[1003016411, 10...|\n",
      "|         10019001|[{[1083710446, 11...|\n",
      "|         10020001|[{[1740552942], {...|\n",
      "|         10021001|[{[1477653954], {...|\n",
      "+-----------------+--------------------+\n",
      "only showing top 20 rows\n",
      "\n"
     ]
    },
    {
     "name": "stderr",
     "output_type": "stream",
     "text": [
      "25/04/28 10:13:27 WARN GarbageCollectionMetrics: To enable non-built-in garbage collector(s) List(G1 Concurrent GC), users should configure it(them) to spark.eventLog.gcMetrics.youngGenerationGarbageCollectors or spark.eventLog.gcMetrics.oldGenerationGarbageCollectors\n"
     ]
    }
   ],
   "source": [
    "df_pyspark.show()"
   ]
  },
  {
   "cell_type": "code",
   "execution_count": null,
   "id": "46212290",
   "metadata": {},
   "outputs": [],
   "source": [
    "\n"
   ]
  }
 ],
 "metadata": {
  "kernelspec": {
   "display_name": "Python 3",
   "language": "python",
   "name": "python3"
  },
  "language_info": {
   "codemirror_mode": {
    "name": "ipython",
    "version": 3
   },
   "file_extension": ".py",
   "mimetype": "text/x-python",
   "name": "python",
   "nbconvert_exporter": "python",
   "pygments_lexer": "ipython3",
   "version": "3.10.12"
  }
 },
 "nbformat": 4,
 "nbformat_minor": 5
}
